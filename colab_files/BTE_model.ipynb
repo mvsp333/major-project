{
  "cells": [
    {
      "cell_type": "code",
      "execution_count": 2,
      "metadata": {
        "colab": {
          "base_uri": "https://localhost:8080/",
          "height": 871
        },
        "id": "rfr4Ziepep1j",
        "outputId": "91b83a7a-51c6-48b4-aba2-c70a1c302ec3"
      },
      "outputs": [
        {
          "name": "stdout",
          "output_type": "stream",
          "text": [
            "Variance Inflation Factors (VIF):\n",
            "             Feature           VIF\n",
            "0   Injection_timing   8080.266190\n",
            "1  Injector_pressure    238.194082\n",
            "2        Temperature  74260.740669\n",
            "3                EGT   2283.107508\n",
            "4                 VE  60976.680196\n",
            "5                 CL   2854.838317\n",
            "BTE = 0.300 + (0.010 * Injection_timing) + (0.020 * Injector_pressure) + (-0.002 * Temperature) + (-0.000 * EGT) + (-0.000 * VE) + (0.000 * CL)\n",
            "R-squared: 1.0\n",
            "Mean Squared Error: 5.259072701473412e-31\n",
            "Ridge Regression Coefficients: [ 5.07443263e-03  1.98691148e-02  1.62507890e-03 -3.77799820e-05\n",
            "  1.63877909e-03  4.68782329e-05]\n",
            "Lasso Regression Coefficients: [ 0.          0.01981004  0.         -0.00013526  0.         -0.        ]\n",
            "\n",
            "Variance Inflation Factors (VIF) after Ridge and Lasso:\n",
            "             Feature           VIF\n",
            "0   Injection_timing   8080.266190\n",
            "1  Injector_pressure    238.194082\n",
            "2        Temperature  74260.740669\n",
            "3                EGT   2283.107508\n",
            "4                 VE  60976.680196\n",
            "5                 CL   2854.838317\n"
          ]
        },
        {
          "data": {
            "image/png": "[encoded data removed]",
            "text/plain": [
              "<Figure size 640x480 with 1 Axes>"
            ]
          },
          "metadata": {},
          "output_type": "display_data"
        }
      ],
      "source": [
        "import pandas as pd\n",
        "import numpy as np\n",
        "import matplotlib.pyplot as plt\n",
        "from sklearn.model_selection import train_test_split\n",
        "from sklearn.linear_model import LinearRegression\n",
        "from sklearn.metrics import mean_squared_error, r2_score\n",
        "from statsmodels.stats.outliers_influence import variance_inflation_factor\n",
        "from sklearn.linear_model import Ridge, Lasso\n",
        "\n",
        "# Provided data\n",
        "data = {\n",
        "    \"Injection_timing\": [27, 27, 27, 27, 27, 27, 27, 30, 30, 30, 30, 30, 30],\n",
        "    \"Injector_pressure\": [190, 230, 270, 190, 190, 230, 270, 190, 190, 230, 230, 270, 270],\n",
        "    \"Temperature\": [29, 30, 30.5, 29.5, 30, 30.5, 31, 31.5, 32, 32, 32.5, 32.5, 33],\n",
        "    \"EGT\": [460, 450, 440, 400, 375, 350, 325, 340, 320, 320, 300, 300, 280],\n",
        "    \"VE\": [78, 80, 82, 75.5, 76.5, 77.5, 78.5, 79, 79.5, 79.5, 80, 80, 81],\n",
        "    \"CL\": [4.5, 4.3, 4.1, 3.4, 3.2, 3, 2.8, 3, 2.8, 2.8, 2.6, 2.6, 2.4],\n",
        "    \"BTE\": [4.312, 5.11, 5.909, 4.311, 4.31, 5.109, 5.908, 4.337, 4.336, 5.136, 5.135, 5.935, 5.934]\n",
        "}\n",
        "\n",
        "# Convert to DataFrame\n",
        "df = pd.DataFrame(data)\n",
        "\n",
        "# Define independent variables (features) and dependent variable (target)\n",
        "X = df[[\"Injection_timing\", \"Injector_pressure\", \"Temperature\", \"EGT\", \"VE\", \"CL\"]]\n",
        "y = df[\"BTE\"]\n",
        "\n",
        "# Check for multicollinearity using VIF\n",
        "vif_data = pd.DataFrame()\n",
        "vif_data['Feature'] = X.columns\n",
        "vif_data['VIF'] = [variance_inflation_factor(X.values, i) for i in range(X.shape[1])]\n",
        "\n",
        "print(\"Variance Inflation Factors (VIF):\")\n",
        "print(vif_data)\n",
        "\n",
        "# Split the data into training and testing sets\n",
        "X_train, X_test, y_train, y_test = train_test_split(X, y, test_size=0.2, random_state=42)\n",
        "\n",
        "# Create a Linear Regression model\n",
        "model = LinearRegression()\n",
        "\n",
        "# Train the model\n",
        "model.fit(X_train, y_train)\n",
        "\n",
        "# Extract the coefficients and intercept\n",
        "coefficients = model.coef_\n",
        "intercept = model.intercept_\n",
        "\n",
        "# Print the regression equation\n",
        "equation = \"BTE = {:.3f}\".format(intercept)\n",
        "for i, col in enumerate(X.columns):\n",
        "    equation += \" + ({:.3f} * {})\".format(coefficients[i], col)\n",
        "\n",
        "print(equation)\n",
        "\n",
        "# Make predictions on the test set\n",
        "y_pred = model.predict(X_test)\n",
        "\n",
        "# Calculate R-squared and MSE\n",
        "r2 = r2_score(y_test, y_pred)\n",
        "mse = mean_squared_error(y_test, y_pred)\n",
        "\n",
        "# Print R-squared and MSE values\n",
        "print(\"R-squared:\", r2)\n",
        "print(\"Mean Squared Error:\", mse)\n",
        "\n",
        "# Ridge Regression\n",
        "ridge_model = Ridge(alpha=1.0)  # Adjust alpha as needed\n",
        "ridge_model.fit(X_train, y_train)\n",
        "print(\"Ridge Regression Coefficients:\", ridge_model.coef_)\n",
        "\n",
        "# Lasso Regression\n",
        "lasso_model = Lasso(alpha=0.1)  # Adjust alpha as needed\n",
        "lasso_model.fit(X_train, y_train)\n",
        "print(\"Lasso Regression Coefficients:\", lasso_model.coef_)\n",
        "\n",
        "# Check for multicollinearity using VIF after Ridge and Lasso\n",
        "# Recalculate VIF after regularization\n",
        "vif_data_ridge = pd.DataFrame()\n",
        "vif_data_ridge['Feature'] = X.columns\n",
        "vif_data_ridge['VIF'] = [variance_inflation_factor(X.values, i) for i in range(X.shape[1])]\n",
        "\n",
        "print(\"\\nVariance Inflation Factors (VIF) after Ridge and Lasso:\")\n",
        "print(vif_data_ridge)\n",
        "\n",
        "# Plot the regression results\n",
        "plt.scatter(y_test, y_pred, color='blue')\n",
        "plt.plot([min(y_test), max(y_test)], [min(y_test), max(y_test)], color='red', linewidth=2)\n",
        "plt.xlabel('Actual BTE')\n",
        "plt.ylabel('Predicted BTE')\n",
        "plt.title('Actual vs Predicted BTE')\n",
        "plt.show()\n",
        "\n",
        "\n",
        "\n"
      ]
    },
    {
      "cell_type": "code",
      "execution_count": 3,
      "metadata": {
        "id": "JJ7pgga3f5hp"
      },
      "outputs": [],
      "source": [
        "import pickle\n",
        "filename = 'bte_model.sav'\n",
        "pickle.dump(model, open(filename, 'wb'))"
      ]
    },
    {
      "cell_type": "code",
      "execution_count": null,
      "metadata": {
        "id": "j5auI44NesJf"
      },
      "outputs": [],
      "source": []
    }
  ],
  "metadata": {
    "colab": {
      "provenance": []
    },
    "kernelspec": {
      "display_name": "Python 3",
      "name": "python3"
    },
    "language_info": {
      "codemirror_mode": {
        "name": "ipython",
        "version": 3
      },
      "file_extension": ".py",
      "mimetype": "text/x-python",
      "name": "python",
      "nbconvert_exporter": "python",
      "pygments_lexer": "ipython3",
      "version": "3.11.4"
    }
  },
  "nbformat": 4,
  "nbformat_minor": 0
}
